{
 "cells": [
  {
   "cell_type": "code",
   "execution_count": 1,
   "id": "0e6f99fd",
   "metadata": {
    "_cell_guid": "b1076dfc-b9ad-4769-8c92-a6c4dae69d19",
    "_uuid": "8f2839f25d086af736a60e9eeb907d3b93b6e0e5",
    "execution": {
     "iopub.execute_input": "2024-08-14T12:17:48.774476Z",
     "iopub.status.busy": "2024-08-14T12:17:48.773984Z",
     "iopub.status.idle": "2024-08-14T12:17:51.452269Z",
     "shell.execute_reply": "2024-08-14T12:17:51.450736Z"
    },
    "papermill": {
     "duration": 2.693225,
     "end_time": "2024-08-14T12:17:51.455808",
     "exception": false,
     "start_time": "2024-08-14T12:17:48.762583",
     "status": "completed"
    },
    "tags": []
   },
   "outputs": [],
   "source": [
    "import pandas as pd\n",
    "import numpy as np\n",
    "import seaborn as sns\n",
    "import matplotlib.pyplot as plt"
   ]
  },
  {
   "cell_type": "code",
   "execution_count": 2,
   "id": "7f76102d",
   "metadata": {
    "execution": {
     "iopub.execute_input": "2024-08-14T12:17:51.477146Z",
     "iopub.status.busy": "2024-08-14T12:17:51.476557Z",
     "iopub.status.idle": "2024-08-14T12:17:51.534029Z",
     "shell.execute_reply": "2024-08-14T12:17:51.532616Z"
    },
    "papermill": {
     "duration": 0.071689,
     "end_time": "2024-08-14T12:17:51.537141",
     "exception": false,
     "start_time": "2024-08-14T12:17:51.465452",
     "status": "completed"
    },
    "tags": []
   },
   "outputs": [
    {
     "data": {
      "text/html": [
       "<div>\n",
       "<style scoped>\n",
       "    .dataframe tbody tr th:only-of-type {\n",
       "        vertical-align: middle;\n",
       "    }\n",
       "\n",
       "    .dataframe tbody tr th {\n",
       "        vertical-align: top;\n",
       "    }\n",
       "\n",
       "    .dataframe thead th {\n",
       "        text-align: right;\n",
       "    }\n",
       "</style>\n",
       "<table border=\"1\" class=\"dataframe\">\n",
       "  <thead>\n",
       "    <tr style=\"text-align: right;\">\n",
       "      <th></th>\n",
       "      <th>Overall rank</th>\n",
       "      <th>Country or region</th>\n",
       "      <th>Score</th>\n",
       "      <th>GDP per capita</th>\n",
       "      <th>Social support</th>\n",
       "      <th>Healthy life expectancy</th>\n",
       "      <th>Freedom to make life choices</th>\n",
       "      <th>Generosity</th>\n",
       "      <th>Perceptions of corruption</th>\n",
       "    </tr>\n",
       "  </thead>\n",
       "  <tbody>\n",
       "    <tr>\n",
       "      <th>0</th>\n",
       "      <td>1</td>\n",
       "      <td>Finland</td>\n",
       "      <td>7.769</td>\n",
       "      <td>1.340</td>\n",
       "      <td>1.587</td>\n",
       "      <td>0.986</td>\n",
       "      <td>0.596</td>\n",
       "      <td>0.153</td>\n",
       "      <td>0.393</td>\n",
       "    </tr>\n",
       "    <tr>\n",
       "      <th>1</th>\n",
       "      <td>2</td>\n",
       "      <td>Denmark</td>\n",
       "      <td>7.600</td>\n",
       "      <td>1.383</td>\n",
       "      <td>1.573</td>\n",
       "      <td>0.996</td>\n",
       "      <td>0.592</td>\n",
       "      <td>0.252</td>\n",
       "      <td>0.410</td>\n",
       "    </tr>\n",
       "    <tr>\n",
       "      <th>2</th>\n",
       "      <td>3</td>\n",
       "      <td>Norway</td>\n",
       "      <td>7.554</td>\n",
       "      <td>1.488</td>\n",
       "      <td>1.582</td>\n",
       "      <td>1.028</td>\n",
       "      <td>0.603</td>\n",
       "      <td>0.271</td>\n",
       "      <td>0.341</td>\n",
       "    </tr>\n",
       "    <tr>\n",
       "      <th>3</th>\n",
       "      <td>4</td>\n",
       "      <td>Iceland</td>\n",
       "      <td>7.494</td>\n",
       "      <td>1.380</td>\n",
       "      <td>1.624</td>\n",
       "      <td>1.026</td>\n",
       "      <td>0.591</td>\n",
       "      <td>0.354</td>\n",
       "      <td>0.118</td>\n",
       "    </tr>\n",
       "    <tr>\n",
       "      <th>4</th>\n",
       "      <td>5</td>\n",
       "      <td>Netherlands</td>\n",
       "      <td>7.488</td>\n",
       "      <td>1.396</td>\n",
       "      <td>1.522</td>\n",
       "      <td>0.999</td>\n",
       "      <td>0.557</td>\n",
       "      <td>0.322</td>\n",
       "      <td>0.298</td>\n",
       "    </tr>\n",
       "  </tbody>\n",
       "</table>\n",
       "</div>"
      ],
      "text/plain": [
       "   Overall rank Country or region  Score  GDP per capita  Social support  \\\n",
       "0             1           Finland  7.769           1.340           1.587   \n",
       "1             2           Denmark  7.600           1.383           1.573   \n",
       "2             3            Norway  7.554           1.488           1.582   \n",
       "3             4           Iceland  7.494           1.380           1.624   \n",
       "4             5       Netherlands  7.488           1.396           1.522   \n",
       "\n",
       "   Healthy life expectancy  Freedom to make life choices  Generosity  \\\n",
       "0                    0.986                         0.596       0.153   \n",
       "1                    0.996                         0.592       0.252   \n",
       "2                    1.028                         0.603       0.271   \n",
       "3                    1.026                         0.591       0.354   \n",
       "4                    0.999                         0.557       0.322   \n",
       "\n",
       "   Perceptions of corruption  \n",
       "0                      0.393  \n",
       "1                      0.410  \n",
       "2                      0.341  \n",
       "3                      0.118  \n",
       "4                      0.298  "
      ]
     },
     "execution_count": 2,
     "metadata": {},
     "output_type": "execute_result"
    }
   ],
   "source": [
    "df = pd.read_csv(\"/kaggle/input/world-happiness/2019.csv\")\n",
    "df.head()"
   ]
  },
  {
   "cell_type": "code",
   "execution_count": 3,
   "id": "faa2023e",
   "metadata": {
    "execution": {
     "iopub.execute_input": "2024-08-14T12:17:51.559001Z",
     "iopub.status.busy": "2024-08-14T12:17:51.558581Z",
     "iopub.status.idle": "2024-08-14T12:17:51.566887Z",
     "shell.execute_reply": "2024-08-14T12:17:51.565583Z"
    },
    "papermill": {
     "duration": 0.022394,
     "end_time": "2024-08-14T12:17:51.569608",
     "exception": false,
     "start_time": "2024-08-14T12:17:51.547214",
     "status": "completed"
    },
    "tags": []
   },
   "outputs": [
    {
     "data": {
      "text/plain": [
       "(156, 9)"
      ]
     },
     "execution_count": 3,
     "metadata": {},
     "output_type": "execute_result"
    }
   ],
   "source": [
    "df.shape"
   ]
  },
  {
   "cell_type": "markdown",
   "id": "2f42b78d",
   "metadata": {
    "papermill": {
     "duration": 0.00921,
     "end_time": "2024-08-14T12:17:51.588304",
     "exception": false,
     "start_time": "2024-08-14T12:17:51.579094",
     "status": "completed"
    },
    "tags": []
   },
   "source": [
    "the dimension of the dataset is 156,9"
   ]
  },
  {
   "cell_type": "markdown",
   "id": "6fa5008b",
   "metadata": {
    "papermill": {
     "duration": 0.009044,
     "end_time": "2024-08-14T12:17:51.606728",
     "exception": false,
     "start_time": "2024-08-14T12:17:51.597684",
     "status": "completed"
    },
    "tags": []
   },
   "source": []
  },
  {
   "cell_type": "code",
   "execution_count": 4,
   "id": "96b0c676",
   "metadata": {
    "execution": {
     "iopub.execute_input": "2024-08-14T12:17:51.628301Z",
     "iopub.status.busy": "2024-08-14T12:17:51.627880Z",
     "iopub.status.idle": "2024-08-14T12:17:51.646674Z",
     "shell.execute_reply": "2024-08-14T12:17:51.645401Z"
    },
    "papermill": {
     "duration": 0.032597,
     "end_time": "2024-08-14T12:17:51.649539",
     "exception": false,
     "start_time": "2024-08-14T12:17:51.616942",
     "status": "completed"
    },
    "tags": []
   },
   "outputs": [
    {
     "data": {
      "text/html": [
       "<div>\n",
       "<style scoped>\n",
       "    .dataframe tbody tr th:only-of-type {\n",
       "        vertical-align: middle;\n",
       "    }\n",
       "\n",
       "    .dataframe tbody tr th {\n",
       "        vertical-align: top;\n",
       "    }\n",
       "\n",
       "    .dataframe thead th {\n",
       "        text-align: right;\n",
       "    }\n",
       "</style>\n",
       "<table border=\"1\" class=\"dataframe\">\n",
       "  <thead>\n",
       "    <tr style=\"text-align: right;\">\n",
       "      <th></th>\n",
       "      <th>Overall rank</th>\n",
       "      <th>Country or region</th>\n",
       "      <th>Score</th>\n",
       "      <th>GDP per capita</th>\n",
       "      <th>Social support</th>\n",
       "      <th>Healthy life expectancy</th>\n",
       "      <th>Freedom to make life choices</th>\n",
       "      <th>Generosity</th>\n",
       "      <th>Perceptions of corruption</th>\n",
       "    </tr>\n",
       "  </thead>\n",
       "  <tbody>\n",
       "    <tr>\n",
       "      <th>0</th>\n",
       "      <td>1</td>\n",
       "      <td>Finland</td>\n",
       "      <td>7.769</td>\n",
       "      <td>1.340</td>\n",
       "      <td>1.587</td>\n",
       "      <td>0.986</td>\n",
       "      <td>0.596</td>\n",
       "      <td>0.153</td>\n",
       "      <td>0.393</td>\n",
       "    </tr>\n",
       "    <tr>\n",
       "      <th>1</th>\n",
       "      <td>2</td>\n",
       "      <td>Denmark</td>\n",
       "      <td>7.600</td>\n",
       "      <td>1.383</td>\n",
       "      <td>1.573</td>\n",
       "      <td>0.996</td>\n",
       "      <td>0.592</td>\n",
       "      <td>0.252</td>\n",
       "      <td>0.410</td>\n",
       "    </tr>\n",
       "    <tr>\n",
       "      <th>2</th>\n",
       "      <td>3</td>\n",
       "      <td>Norway</td>\n",
       "      <td>7.554</td>\n",
       "      <td>1.488</td>\n",
       "      <td>1.582</td>\n",
       "      <td>1.028</td>\n",
       "      <td>0.603</td>\n",
       "      <td>0.271</td>\n",
       "      <td>0.341</td>\n",
       "    </tr>\n",
       "    <tr>\n",
       "      <th>3</th>\n",
       "      <td>4</td>\n",
       "      <td>Iceland</td>\n",
       "      <td>7.494</td>\n",
       "      <td>1.380</td>\n",
       "      <td>1.624</td>\n",
       "      <td>1.026</td>\n",
       "      <td>0.591</td>\n",
       "      <td>0.354</td>\n",
       "      <td>0.118</td>\n",
       "    </tr>\n",
       "    <tr>\n",
       "      <th>4</th>\n",
       "      <td>5</td>\n",
       "      <td>Netherlands</td>\n",
       "      <td>7.488</td>\n",
       "      <td>1.396</td>\n",
       "      <td>1.522</td>\n",
       "      <td>0.999</td>\n",
       "      <td>0.557</td>\n",
       "      <td>0.322</td>\n",
       "      <td>0.298</td>\n",
       "    </tr>\n",
       "  </tbody>\n",
       "</table>\n",
       "</div>"
      ],
      "text/plain": [
       "   Overall rank Country or region  Score  GDP per capita  Social support  \\\n",
       "0             1           Finland  7.769           1.340           1.587   \n",
       "1             2           Denmark  7.600           1.383           1.573   \n",
       "2             3            Norway  7.554           1.488           1.582   \n",
       "3             4           Iceland  7.494           1.380           1.624   \n",
       "4             5       Netherlands  7.488           1.396           1.522   \n",
       "\n",
       "   Healthy life expectancy  Freedom to make life choices  Generosity  \\\n",
       "0                    0.986                         0.596       0.153   \n",
       "1                    0.996                         0.592       0.252   \n",
       "2                    1.028                         0.603       0.271   \n",
       "3                    1.026                         0.591       0.354   \n",
       "4                    0.999                         0.557       0.322   \n",
       "\n",
       "   Perceptions of corruption  \n",
       "0                      0.393  \n",
       "1                      0.410  \n",
       "2                      0.341  \n",
       "3                      0.118  \n",
       "4                      0.298  "
      ]
     },
     "execution_count": 4,
     "metadata": {},
     "output_type": "execute_result"
    }
   ],
   "source": [
    "df.head()"
   ]
  },
  {
   "cell_type": "code",
   "execution_count": 5,
   "id": "85819ab7",
   "metadata": {
    "execution": {
     "iopub.execute_input": "2024-08-14T12:17:51.673730Z",
     "iopub.status.busy": "2024-08-14T12:17:51.672414Z",
     "iopub.status.idle": "2024-08-14T12:17:51.693006Z",
     "shell.execute_reply": "2024-08-14T12:17:51.691542Z"
    },
    "papermill": {
     "duration": 0.035934,
     "end_time": "2024-08-14T12:17:51.696225",
     "exception": false,
     "start_time": "2024-08-14T12:17:51.660291",
     "status": "completed"
    },
    "tags": []
   },
   "outputs": [
    {
     "data": {
      "text/html": [
       "<div>\n",
       "<style scoped>\n",
       "    .dataframe tbody tr th:only-of-type {\n",
       "        vertical-align: middle;\n",
       "    }\n",
       "\n",
       "    .dataframe tbody tr th {\n",
       "        vertical-align: top;\n",
       "    }\n",
       "\n",
       "    .dataframe thead th {\n",
       "        text-align: right;\n",
       "    }\n",
       "</style>\n",
       "<table border=\"1\" class=\"dataframe\">\n",
       "  <thead>\n",
       "    <tr style=\"text-align: right;\">\n",
       "      <th></th>\n",
       "      <th>Overall rank</th>\n",
       "      <th>Country or region</th>\n",
       "      <th>Score</th>\n",
       "      <th>GDP per capita</th>\n",
       "      <th>Social support</th>\n",
       "      <th>Healthy life expectancy</th>\n",
       "      <th>Freedom to make life choices</th>\n",
       "      <th>Generosity</th>\n",
       "      <th>Perceptions of corruption</th>\n",
       "    </tr>\n",
       "  </thead>\n",
       "  <tbody>\n",
       "    <tr>\n",
       "      <th>151</th>\n",
       "      <td>152</td>\n",
       "      <td>Rwanda</td>\n",
       "      <td>3.334</td>\n",
       "      <td>0.359</td>\n",
       "      <td>0.711</td>\n",
       "      <td>0.614</td>\n",
       "      <td>0.555</td>\n",
       "      <td>0.217</td>\n",
       "      <td>0.411</td>\n",
       "    </tr>\n",
       "    <tr>\n",
       "      <th>152</th>\n",
       "      <td>153</td>\n",
       "      <td>Tanzania</td>\n",
       "      <td>3.231</td>\n",
       "      <td>0.476</td>\n",
       "      <td>0.885</td>\n",
       "      <td>0.499</td>\n",
       "      <td>0.417</td>\n",
       "      <td>0.276</td>\n",
       "      <td>0.147</td>\n",
       "    </tr>\n",
       "    <tr>\n",
       "      <th>153</th>\n",
       "      <td>154</td>\n",
       "      <td>Afghanistan</td>\n",
       "      <td>3.203</td>\n",
       "      <td>0.350</td>\n",
       "      <td>0.517</td>\n",
       "      <td>0.361</td>\n",
       "      <td>0.000</td>\n",
       "      <td>0.158</td>\n",
       "      <td>0.025</td>\n",
       "    </tr>\n",
       "    <tr>\n",
       "      <th>154</th>\n",
       "      <td>155</td>\n",
       "      <td>Central African Republic</td>\n",
       "      <td>3.083</td>\n",
       "      <td>0.026</td>\n",
       "      <td>0.000</td>\n",
       "      <td>0.105</td>\n",
       "      <td>0.225</td>\n",
       "      <td>0.235</td>\n",
       "      <td>0.035</td>\n",
       "    </tr>\n",
       "    <tr>\n",
       "      <th>155</th>\n",
       "      <td>156</td>\n",
       "      <td>South Sudan</td>\n",
       "      <td>2.853</td>\n",
       "      <td>0.306</td>\n",
       "      <td>0.575</td>\n",
       "      <td>0.295</td>\n",
       "      <td>0.010</td>\n",
       "      <td>0.202</td>\n",
       "      <td>0.091</td>\n",
       "    </tr>\n",
       "  </tbody>\n",
       "</table>\n",
       "</div>"
      ],
      "text/plain": [
       "     Overall rank         Country or region  Score  GDP per capita  \\\n",
       "151           152                    Rwanda  3.334           0.359   \n",
       "152           153                  Tanzania  3.231           0.476   \n",
       "153           154               Afghanistan  3.203           0.350   \n",
       "154           155  Central African Republic  3.083           0.026   \n",
       "155           156               South Sudan  2.853           0.306   \n",
       "\n",
       "     Social support  Healthy life expectancy  Freedom to make life choices  \\\n",
       "151           0.711                    0.614                         0.555   \n",
       "152           0.885                    0.499                         0.417   \n",
       "153           0.517                    0.361                         0.000   \n",
       "154           0.000                    0.105                         0.225   \n",
       "155           0.575                    0.295                         0.010   \n",
       "\n",
       "     Generosity  Perceptions of corruption  \n",
       "151       0.217                      0.411  \n",
       "152       0.276                      0.147  \n",
       "153       0.158                      0.025  \n",
       "154       0.235                      0.035  \n",
       "155       0.202                      0.091  "
      ]
     },
     "execution_count": 5,
     "metadata": {},
     "output_type": "execute_result"
    }
   ],
   "source": [
    "df.tail(5)"
   ]
  },
  {
   "cell_type": "code",
   "execution_count": 6,
   "id": "01babb90",
   "metadata": {
    "execution": {
     "iopub.execute_input": "2024-08-14T12:17:51.718697Z",
     "iopub.status.busy": "2024-08-14T12:17:51.718225Z",
     "iopub.status.idle": "2024-08-14T12:17:51.749653Z",
     "shell.execute_reply": "2024-08-14T12:17:51.748074Z"
    },
    "papermill": {
     "duration": 0.046171,
     "end_time": "2024-08-14T12:17:51.752733",
     "exception": false,
     "start_time": "2024-08-14T12:17:51.706562",
     "status": "completed"
    },
    "tags": []
   },
   "outputs": [
    {
     "data": {
      "text/html": [
       "<div>\n",
       "<style scoped>\n",
       "    .dataframe tbody tr th:only-of-type {\n",
       "        vertical-align: middle;\n",
       "    }\n",
       "\n",
       "    .dataframe tbody tr th {\n",
       "        vertical-align: top;\n",
       "    }\n",
       "\n",
       "    .dataframe thead th {\n",
       "        text-align: right;\n",
       "    }\n",
       "</style>\n",
       "<table border=\"1\" class=\"dataframe\">\n",
       "  <thead>\n",
       "    <tr style=\"text-align: right;\">\n",
       "      <th></th>\n",
       "      <th>Overall rank</th>\n",
       "      <th>Country or region</th>\n",
       "      <th>Score</th>\n",
       "      <th>GDP per capita</th>\n",
       "      <th>Social support</th>\n",
       "      <th>Healthy life expectancy</th>\n",
       "      <th>Freedom to make life choices</th>\n",
       "      <th>Generosity</th>\n",
       "      <th>Perceptions of corruption</th>\n",
       "    </tr>\n",
       "  </thead>\n",
       "  <tbody>\n",
       "    <tr>\n",
       "      <th>22</th>\n",
       "      <td>23</td>\n",
       "      <td>Mexico</td>\n",
       "      <td>6.595</td>\n",
       "      <td>1.070</td>\n",
       "      <td>1.323</td>\n",
       "      <td>0.861</td>\n",
       "      <td>0.433</td>\n",
       "      <td>0.074</td>\n",
       "      <td>0.073</td>\n",
       "    </tr>\n",
       "    <tr>\n",
       "      <th>151</th>\n",
       "      <td>152</td>\n",
       "      <td>Rwanda</td>\n",
       "      <td>3.334</td>\n",
       "      <td>0.359</td>\n",
       "      <td>0.711</td>\n",
       "      <td>0.614</td>\n",
       "      <td>0.555</td>\n",
       "      <td>0.217</td>\n",
       "      <td>0.411</td>\n",
       "    </tr>\n",
       "    <tr>\n",
       "      <th>146</th>\n",
       "      <td>147</td>\n",
       "      <td>Haiti</td>\n",
       "      <td>3.597</td>\n",
       "      <td>0.323</td>\n",
       "      <td>0.688</td>\n",
       "      <td>0.449</td>\n",
       "      <td>0.026</td>\n",
       "      <td>0.419</td>\n",
       "      <td>0.110</td>\n",
       "    </tr>\n",
       "    <tr>\n",
       "      <th>42</th>\n",
       "      <td>43</td>\n",
       "      <td>Colombia</td>\n",
       "      <td>6.125</td>\n",
       "      <td>0.985</td>\n",
       "      <td>1.410</td>\n",
       "      <td>0.841</td>\n",
       "      <td>0.470</td>\n",
       "      <td>0.099</td>\n",
       "      <td>0.034</td>\n",
       "    </tr>\n",
       "    <tr>\n",
       "      <th>31</th>\n",
       "      <td>32</td>\n",
       "      <td>Brazil</td>\n",
       "      <td>6.300</td>\n",
       "      <td>1.004</td>\n",
       "      <td>1.439</td>\n",
       "      <td>0.802</td>\n",
       "      <td>0.390</td>\n",
       "      <td>0.099</td>\n",
       "      <td>0.086</td>\n",
       "    </tr>\n",
       "  </tbody>\n",
       "</table>\n",
       "</div>"
      ],
      "text/plain": [
       "     Overall rank Country or region  Score  GDP per capita  Social support  \\\n",
       "22             23            Mexico  6.595           1.070           1.323   \n",
       "151           152            Rwanda  3.334           0.359           0.711   \n",
       "146           147             Haiti  3.597           0.323           0.688   \n",
       "42             43          Colombia  6.125           0.985           1.410   \n",
       "31             32            Brazil  6.300           1.004           1.439   \n",
       "\n",
       "     Healthy life expectancy  Freedom to make life choices  Generosity  \\\n",
       "22                     0.861                         0.433       0.074   \n",
       "151                    0.614                         0.555       0.217   \n",
       "146                    0.449                         0.026       0.419   \n",
       "42                     0.841                         0.470       0.099   \n",
       "31                     0.802                         0.390       0.099   \n",
       "\n",
       "     Perceptions of corruption  \n",
       "22                       0.073  \n",
       "151                      0.411  \n",
       "146                      0.110  \n",
       "42                       0.034  \n",
       "31                       0.086  "
      ]
     },
     "execution_count": 6,
     "metadata": {},
     "output_type": "execute_result"
    }
   ],
   "source": [
    "df.sample(5)"
   ]
  },
  {
   "cell_type": "code",
   "execution_count": 7,
   "id": "82cd1319",
   "metadata": {
    "execution": {
     "iopub.execute_input": "2024-08-14T12:17:51.777094Z",
     "iopub.status.busy": "2024-08-14T12:17:51.776655Z",
     "iopub.status.idle": "2024-08-14T12:17:51.804997Z",
     "shell.execute_reply": "2024-08-14T12:17:51.803277Z"
    },
    "papermill": {
     "duration": 0.044595,
     "end_time": "2024-08-14T12:17:51.808301",
     "exception": false,
     "start_time": "2024-08-14T12:17:51.763706",
     "status": "completed"
    },
    "tags": []
   },
   "outputs": [
    {
     "name": "stdout",
     "output_type": "stream",
     "text": [
      "<class 'pandas.core.frame.DataFrame'>\n",
      "RangeIndex: 156 entries, 0 to 155\n",
      "Data columns (total 9 columns):\n",
      " #   Column                        Non-Null Count  Dtype  \n",
      "---  ------                        --------------  -----  \n",
      " 0   Overall rank                  156 non-null    int64  \n",
      " 1   Country or region             156 non-null    object \n",
      " 2   Score                         156 non-null    float64\n",
      " 3   GDP per capita                156 non-null    float64\n",
      " 4   Social support                156 non-null    float64\n",
      " 5   Healthy life expectancy       156 non-null    float64\n",
      " 6   Freedom to make life choices  156 non-null    float64\n",
      " 7   Generosity                    156 non-null    float64\n",
      " 8   Perceptions of corruption     156 non-null    float64\n",
      "dtypes: float64(7), int64(1), object(1)\n",
      "memory usage: 11.1+ KB\n"
     ]
    }
   ],
   "source": [
    "df.info()"
   ]
  },
  {
   "cell_type": "markdown",
   "id": "b0fab95f",
   "metadata": {
    "papermill": {
     "duration": 0.010912,
     "end_time": "2024-08-14T12:17:51.831927",
     "exception": false,
     "start_time": "2024-08-14T12:17:51.821015",
     "status": "completed"
    },
    "tags": []
   },
   "source": [
    "There are a 9 columns in the dataset\n",
    "We can notice there are 3 data types int(1),object(1), float(7)"
   ]
  },
  {
   "cell_type": "code",
   "execution_count": 8,
   "id": "11d04599",
   "metadata": {
    "execution": {
     "iopub.execute_input": "2024-08-14T12:17:51.855948Z",
     "iopub.status.busy": "2024-08-14T12:17:51.855499Z",
     "iopub.status.idle": "2024-08-14T12:17:51.865148Z",
     "shell.execute_reply": "2024-08-14T12:17:51.863872Z"
    },
    "papermill": {
     "duration": 0.025319,
     "end_time": "2024-08-14T12:17:51.868207",
     "exception": false,
     "start_time": "2024-08-14T12:17:51.842888",
     "status": "completed"
    },
    "tags": []
   },
   "outputs": [
    {
     "data": {
      "text/plain": [
       "array(['Finland', 'Denmark', 'Norway', 'Iceland', 'Netherlands',\n",
       "       'Switzerland', 'Sweden', 'New Zealand', 'Canada', 'Austria',\n",
       "       'Australia', 'Costa Rica', 'Israel', 'Luxembourg',\n",
       "       'United Kingdom', 'Ireland', 'Germany', 'Belgium', 'United States',\n",
       "       'Czech Republic', 'United Arab Emirates', 'Malta', 'Mexico',\n",
       "       'France', 'Taiwan', 'Chile', 'Guatemala', 'Saudi Arabia', 'Qatar',\n",
       "       'Spain', 'Panama', 'Brazil', 'Uruguay', 'Singapore', 'El Salvador',\n",
       "       'Italy', 'Bahrain', 'Slovakia', 'Trinidad & Tobago', 'Poland',\n",
       "       'Uzbekistan', 'Lithuania', 'Colombia', 'Slovenia', 'Nicaragua',\n",
       "       'Kosovo', 'Argentina', 'Romania', 'Cyprus', 'Ecuador', 'Kuwait',\n",
       "       'Thailand', 'Latvia', 'South Korea', 'Estonia', 'Jamaica',\n",
       "       'Mauritius', 'Japan', 'Honduras', 'Kazakhstan', 'Bolivia',\n",
       "       'Hungary', 'Paraguay', 'Northern Cyprus', 'Peru', 'Portugal',\n",
       "       'Pakistan', 'Russia', 'Philippines', 'Serbia', 'Moldova', 'Libya',\n",
       "       'Montenegro', 'Tajikistan', 'Croatia', 'Hong Kong',\n",
       "       'Dominican Republic', 'Bosnia and Herzegovina', 'Turkey',\n",
       "       'Malaysia', 'Belarus', 'Greece', 'Mongolia', 'North Macedonia',\n",
       "       'Nigeria', 'Kyrgyzstan', 'Turkmenistan', 'Algeria', 'Morocco',\n",
       "       'Azerbaijan', 'Lebanon', 'Indonesia', 'China', 'Vietnam', 'Bhutan',\n",
       "       'Cameroon', 'Bulgaria', 'Ghana', 'Ivory Coast', 'Nepal', 'Jordan',\n",
       "       'Benin', 'Congo (Brazzaville)', 'Gabon', 'Laos', 'South Africa',\n",
       "       'Albania', 'Venezuela', 'Cambodia', 'Palestinian Territories',\n",
       "       'Senegal', 'Somalia', 'Namibia', 'Niger', 'Burkina Faso',\n",
       "       'Armenia', 'Iran', 'Guinea', 'Georgia', 'Gambia', 'Kenya',\n",
       "       'Mauritania', 'Mozambique', 'Tunisia', 'Bangladesh', 'Iraq',\n",
       "       'Congo (Kinshasa)', 'Mali', 'Sierra Leone', 'Sri Lanka', 'Myanmar',\n",
       "       'Chad', 'Ukraine', 'Ethiopia', 'Swaziland', 'Uganda', 'Egypt',\n",
       "       'Zambia', 'Togo', 'India', 'Liberia', 'Comoros', 'Madagascar',\n",
       "       'Lesotho', 'Burundi', 'Zimbabwe', 'Haiti', 'Botswana', 'Syria',\n",
       "       'Malawi', 'Yemen', 'Rwanda', 'Tanzania', 'Afghanistan',\n",
       "       'Central African Republic', 'South Sudan'], dtype=object)"
      ]
     },
     "execution_count": 8,
     "metadata": {},
     "output_type": "execute_result"
    }
   ],
   "source": [
    "df[\"Country or region\"].unique()"
   ]
  },
  {
   "cell_type": "code",
   "execution_count": 9,
   "id": "48ae3a9b",
   "metadata": {
    "execution": {
     "iopub.execute_input": "2024-08-14T12:17:51.893061Z",
     "iopub.status.busy": "2024-08-14T12:17:51.892629Z",
     "iopub.status.idle": "2024-08-14T12:17:51.900555Z",
     "shell.execute_reply": "2024-08-14T12:17:51.899014Z"
    },
    "papermill": {
     "duration": 0.023874,
     "end_time": "2024-08-14T12:17:51.903549",
     "exception": false,
     "start_time": "2024-08-14T12:17:51.879675",
     "status": "completed"
    },
    "tags": []
   },
   "outputs": [
    {
     "name": "stdout",
     "output_type": "stream",
     "text": [
      "no.of unique countries:  156\n"
     ]
    }
   ],
   "source": [
    "print(\"no.of unique countries: \",df[\"Country or region\"].nunique())"
   ]
  },
  {
   "cell_type": "markdown",
   "id": "374c4d63",
   "metadata": {
    "papermill": {
     "duration": 0.010577,
     "end_time": "2024-08-14T12:17:51.925056",
     "exception": false,
     "start_time": "2024-08-14T12:17:51.914479",
     "status": "completed"
    },
    "tags": []
   },
   "source": [
    "**Checking for missing values**"
   ]
  },
  {
   "cell_type": "code",
   "execution_count": 10,
   "id": "26a9bec0",
   "metadata": {
    "execution": {
     "iopub.execute_input": "2024-08-14T12:17:51.948982Z",
     "iopub.status.busy": "2024-08-14T12:17:51.948543Z",
     "iopub.status.idle": "2024-08-14T12:17:51.960696Z",
     "shell.execute_reply": "2024-08-14T12:17:51.959364Z"
    },
    "papermill": {
     "duration": 0.027575,
     "end_time": "2024-08-14T12:17:51.963612",
     "exception": false,
     "start_time": "2024-08-14T12:17:51.936037",
     "status": "completed"
    },
    "tags": []
   },
   "outputs": [
    {
     "data": {
      "text/plain": [
       "Overall rank                    0.0\n",
       "Country or region               0.0\n",
       "Score                           0.0\n",
       "GDP per capita                  0.0\n",
       "Social support                  0.0\n",
       "Healthy life expectancy         0.0\n",
       "Freedom to make life choices    0.0\n",
       "Generosity                      0.0\n",
       "Perceptions of corruption       0.0\n",
       "dtype: float64"
      ]
     },
     "execution_count": 10,
     "metadata": {},
     "output_type": "execute_result"
    }
   ],
   "source": [
    "df.isnull().mean()*100"
   ]
  },
  {
   "cell_type": "markdown",
   "id": "800966a1",
   "metadata": {
    "papermill": {
     "duration": 0.011537,
     "end_time": "2024-08-14T12:17:51.986516",
     "exception": false,
     "start_time": "2024-08-14T12:17:51.974979",
     "status": "completed"
    },
    "tags": []
   },
   "source": [
    "there is no null values in the dataset"
   ]
  },
  {
   "cell_type": "markdown",
   "id": "a9e39e66",
   "metadata": {
    "papermill": {
     "duration": 0.012873,
     "end_time": "2024-08-14T12:17:52.011907",
     "exception": false,
     "start_time": "2024-08-14T12:17:51.999034",
     "status": "completed"
    },
    "tags": []
   },
   "source": [
    "**Statistical Overview**"
   ]
  },
  {
   "cell_type": "code",
   "execution_count": 11,
   "id": "4bfe1b1f",
   "metadata": {
    "execution": {
     "iopub.execute_input": "2024-08-14T12:17:52.037064Z",
     "iopub.status.busy": "2024-08-14T12:17:52.036649Z",
     "iopub.status.idle": "2024-08-14T12:17:52.082943Z",
     "shell.execute_reply": "2024-08-14T12:17:52.081600Z"
    },
    "papermill": {
     "duration": 0.062509,
     "end_time": "2024-08-14T12:17:52.086016",
     "exception": false,
     "start_time": "2024-08-14T12:17:52.023507",
     "status": "completed"
    },
    "tags": []
   },
   "outputs": [
    {
     "data": {
      "text/html": [
       "<div>\n",
       "<style scoped>\n",
       "    .dataframe tbody tr th:only-of-type {\n",
       "        vertical-align: middle;\n",
       "    }\n",
       "\n",
       "    .dataframe tbody tr th {\n",
       "        vertical-align: top;\n",
       "    }\n",
       "\n",
       "    .dataframe thead th {\n",
       "        text-align: right;\n",
       "    }\n",
       "</style>\n",
       "<table border=\"1\" class=\"dataframe\">\n",
       "  <thead>\n",
       "    <tr style=\"text-align: right;\">\n",
       "      <th></th>\n",
       "      <th>count</th>\n",
       "      <th>mean</th>\n",
       "      <th>std</th>\n",
       "      <th>min</th>\n",
       "      <th>25%</th>\n",
       "      <th>50%</th>\n",
       "      <th>75%</th>\n",
       "      <th>max</th>\n",
       "    </tr>\n",
       "  </thead>\n",
       "  <tbody>\n",
       "    <tr>\n",
       "      <th>Overall rank</th>\n",
       "      <td>156.0</td>\n",
       "      <td>78.500000</td>\n",
       "      <td>45.177428</td>\n",
       "      <td>1.000</td>\n",
       "      <td>39.75000</td>\n",
       "      <td>78.5000</td>\n",
       "      <td>117.25000</td>\n",
       "      <td>156.000</td>\n",
       "    </tr>\n",
       "    <tr>\n",
       "      <th>Score</th>\n",
       "      <td>156.0</td>\n",
       "      <td>5.407096</td>\n",
       "      <td>1.113120</td>\n",
       "      <td>2.853</td>\n",
       "      <td>4.54450</td>\n",
       "      <td>5.3795</td>\n",
       "      <td>6.18450</td>\n",
       "      <td>7.769</td>\n",
       "    </tr>\n",
       "    <tr>\n",
       "      <th>GDP per capita</th>\n",
       "      <td>156.0</td>\n",
       "      <td>0.905147</td>\n",
       "      <td>0.398389</td>\n",
       "      <td>0.000</td>\n",
       "      <td>0.60275</td>\n",
       "      <td>0.9600</td>\n",
       "      <td>1.23250</td>\n",
       "      <td>1.684</td>\n",
       "    </tr>\n",
       "    <tr>\n",
       "      <th>Social support</th>\n",
       "      <td>156.0</td>\n",
       "      <td>1.208814</td>\n",
       "      <td>0.299191</td>\n",
       "      <td>0.000</td>\n",
       "      <td>1.05575</td>\n",
       "      <td>1.2715</td>\n",
       "      <td>1.45250</td>\n",
       "      <td>1.624</td>\n",
       "    </tr>\n",
       "    <tr>\n",
       "      <th>Healthy life expectancy</th>\n",
       "      <td>156.0</td>\n",
       "      <td>0.725244</td>\n",
       "      <td>0.242124</td>\n",
       "      <td>0.000</td>\n",
       "      <td>0.54775</td>\n",
       "      <td>0.7890</td>\n",
       "      <td>0.88175</td>\n",
       "      <td>1.141</td>\n",
       "    </tr>\n",
       "    <tr>\n",
       "      <th>Freedom to make life choices</th>\n",
       "      <td>156.0</td>\n",
       "      <td>0.392571</td>\n",
       "      <td>0.143289</td>\n",
       "      <td>0.000</td>\n",
       "      <td>0.30800</td>\n",
       "      <td>0.4170</td>\n",
       "      <td>0.50725</td>\n",
       "      <td>0.631</td>\n",
       "    </tr>\n",
       "    <tr>\n",
       "      <th>Generosity</th>\n",
       "      <td>156.0</td>\n",
       "      <td>0.184846</td>\n",
       "      <td>0.095254</td>\n",
       "      <td>0.000</td>\n",
       "      <td>0.10875</td>\n",
       "      <td>0.1775</td>\n",
       "      <td>0.24825</td>\n",
       "      <td>0.566</td>\n",
       "    </tr>\n",
       "    <tr>\n",
       "      <th>Perceptions of corruption</th>\n",
       "      <td>156.0</td>\n",
       "      <td>0.110603</td>\n",
       "      <td>0.094538</td>\n",
       "      <td>0.000</td>\n",
       "      <td>0.04700</td>\n",
       "      <td>0.0855</td>\n",
       "      <td>0.14125</td>\n",
       "      <td>0.453</td>\n",
       "    </tr>\n",
       "  </tbody>\n",
       "</table>\n",
       "</div>"
      ],
      "text/plain": [
       "                              count       mean        std    min       25%  \\\n",
       "Overall rank                  156.0  78.500000  45.177428  1.000  39.75000   \n",
       "Score                         156.0   5.407096   1.113120  2.853   4.54450   \n",
       "GDP per capita                156.0   0.905147   0.398389  0.000   0.60275   \n",
       "Social support                156.0   1.208814   0.299191  0.000   1.05575   \n",
       "Healthy life expectancy       156.0   0.725244   0.242124  0.000   0.54775   \n",
       "Freedom to make life choices  156.0   0.392571   0.143289  0.000   0.30800   \n",
       "Generosity                    156.0   0.184846   0.095254  0.000   0.10875   \n",
       "Perceptions of corruption     156.0   0.110603   0.094538  0.000   0.04700   \n",
       "\n",
       "                                  50%        75%      max  \n",
       "Overall rank                  78.5000  117.25000  156.000  \n",
       "Score                          5.3795    6.18450    7.769  \n",
       "GDP per capita                 0.9600    1.23250    1.684  \n",
       "Social support                 1.2715    1.45250    1.624  \n",
       "Healthy life expectancy        0.7890    0.88175    1.141  \n",
       "Freedom to make life choices   0.4170    0.50725    0.631  \n",
       "Generosity                     0.1775    0.24825    0.566  \n",
       "Perceptions of corruption      0.0855    0.14125    0.453  "
      ]
     },
     "execution_count": 11,
     "metadata": {},
     "output_type": "execute_result"
    }
   ],
   "source": [
    "df.describe().transpose()"
   ]
  },
  {
   "cell_type": "markdown",
   "id": "6b3a6935",
   "metadata": {
    "papermill": {
     "duration": 0.010886,
     "end_time": "2024-08-14T12:17:52.109474",
     "exception": false,
     "start_time": "2024-08-14T12:17:52.098588",
     "status": "completed"
    },
    "tags": []
   },
   "source": [
    "We came know about the central tendency\n",
    "Mean -  Avg. of all data\n",
    "Median -the value that occours most frequently\n",
    "Mode - Middle value with equal observation in the left and right"
   ]
  },
  {
   "cell_type": "markdown",
   "id": "67e70f84",
   "metadata": {
    "papermill": {
     "duration": 0.010963,
     "end_time": "2024-08-14T12:17:52.131599",
     "exception": false,
     "start_time": "2024-08-14T12:17:52.120636",
     "status": "completed"
    },
    "tags": []
   },
   "source": []
  },
  {
   "cell_type": "code",
   "execution_count": 12,
   "id": "94034ede",
   "metadata": {
    "execution": {
     "iopub.execute_input": "2024-08-14T12:17:52.157316Z",
     "iopub.status.busy": "2024-08-14T12:17:52.156886Z",
     "iopub.status.idle": "2024-08-14T12:17:52.165363Z",
     "shell.execute_reply": "2024-08-14T12:17:52.163932Z"
    },
    "papermill": {
     "duration": 0.025036,
     "end_time": "2024-08-14T12:17:52.168335",
     "exception": false,
     "start_time": "2024-08-14T12:17:52.143299",
     "status": "completed"
    },
    "tags": []
   },
   "outputs": [
    {
     "data": {
      "text/plain": [
       "0.0"
      ]
     },
     "execution_count": 12,
     "metadata": {},
     "output_type": "execute_result"
    }
   ],
   "source": [
    "df[\"Overall rank\"].skew()"
   ]
  },
  {
   "cell_type": "markdown",
   "id": "642133ac",
   "metadata": {
    "papermill": {
     "duration": 0.012155,
     "end_time": "2024-08-14T12:17:52.192504",
     "exception": false,
     "start_time": "2024-08-14T12:17:52.180349",
     "status": "completed"
    },
    "tags": []
   },
   "source": [
    "It is a symmetrical distrubution around the mean"
   ]
  },
  {
   "cell_type": "markdown",
   "id": "cf1632fd",
   "metadata": {
    "papermill": {
     "duration": 0.011644,
     "end_time": "2024-08-14T12:17:52.216313",
     "exception": false,
     "start_time": "2024-08-14T12:17:52.204669",
     "status": "completed"
    },
    "tags": []
   },
   "source": [
    "**Duplicate**"
   ]
  },
  {
   "cell_type": "code",
   "execution_count": 13,
   "id": "365ea39e",
   "metadata": {
    "execution": {
     "iopub.execute_input": "2024-08-14T12:17:52.242137Z",
     "iopub.status.busy": "2024-08-14T12:17:52.241680Z",
     "iopub.status.idle": "2024-08-14T12:17:52.253263Z",
     "shell.execute_reply": "2024-08-14T12:17:52.251817Z"
    },
    "papermill": {
     "duration": 0.028119,
     "end_time": "2024-08-14T12:17:52.256423",
     "exception": false,
     "start_time": "2024-08-14T12:17:52.228304",
     "status": "completed"
    },
    "tags": []
   },
   "outputs": [
    {
     "data": {
      "text/plain": [
       "0"
      ]
     },
     "execution_count": 13,
     "metadata": {},
     "output_type": "execute_result"
    }
   ],
   "source": [
    "df.duplicated().sum()"
   ]
  },
  {
   "cell_type": "markdown",
   "id": "0464c6bf",
   "metadata": {
    "papermill": {
     "duration": 0.012104,
     "end_time": "2024-08-14T12:17:52.280441",
     "exception": false,
     "start_time": "2024-08-14T12:17:52.268337",
     "status": "completed"
    },
    "tags": []
   },
   "source": [
    "there is no duplicate values in the dataset\n"
   ]
  },
  {
   "cell_type": "code",
   "execution_count": 14,
   "id": "9753905e",
   "metadata": {
    "execution": {
     "iopub.execute_input": "2024-08-14T12:17:52.307407Z",
     "iopub.status.busy": "2024-08-14T12:17:52.306327Z",
     "iopub.status.idle": "2024-08-14T12:17:52.646652Z",
     "shell.execute_reply": "2024-08-14T12:17:52.645181Z"
    },
    "papermill": {
     "duration": 0.357071,
     "end_time": "2024-08-14T12:17:52.649704",
     "exception": false,
     "start_time": "2024-08-14T12:17:52.292633",
     "status": "completed"
    },
    "tags": []
   },
   "outputs": [],
   "source": [
    "from sklearn.preprocessing import  LabelEncoder\n"
   ]
  },
  {
   "cell_type": "code",
   "execution_count": 15,
   "id": "65923662",
   "metadata": {
    "execution": {
     "iopub.execute_input": "2024-08-14T12:17:52.675621Z",
     "iopub.status.busy": "2024-08-14T12:17:52.675079Z",
     "iopub.status.idle": "2024-08-14T12:17:52.683064Z",
     "shell.execute_reply": "2024-08-14T12:17:52.681637Z"
    },
    "papermill": {
     "duration": 0.024498,
     "end_time": "2024-08-14T12:17:52.685950",
     "exception": false,
     "start_time": "2024-08-14T12:17:52.661452",
     "status": "completed"
    },
    "tags": []
   },
   "outputs": [],
   "source": [
    "encoder =  LabelEncoder()\n",
    "df[\"Country or region\"] = encoder.fit_transform(df[\"Country or region\"])"
   ]
  },
  {
   "cell_type": "code",
   "execution_count": 16,
   "id": "9c944161",
   "metadata": {
    "execution": {
     "iopub.execute_input": "2024-08-14T12:17:52.712600Z",
     "iopub.status.busy": "2024-08-14T12:17:52.712085Z",
     "iopub.status.idle": "2024-08-14T12:17:52.721710Z",
     "shell.execute_reply": "2024-08-14T12:17:52.720218Z"
    },
    "papermill": {
     "duration": 0.026332,
     "end_time": "2024-08-14T12:17:52.724542",
     "exception": false,
     "start_time": "2024-08-14T12:17:52.698210",
     "status": "completed"
    },
    "tags": []
   },
   "outputs": [
    {
     "data": {
      "text/plain": [
       "Index(['Overall rank', 'Country or region', 'Score', 'GDP per capita',\n",
       "       'Social support', 'Healthy life expectancy',\n",
       "       'Freedom to make life choices', 'Generosity',\n",
       "       'Perceptions of corruption'],\n",
       "      dtype='object')"
      ]
     },
     "execution_count": 16,
     "metadata": {},
     "output_type": "execute_result"
    }
   ],
   "source": [
    "df.columns"
   ]
  },
  {
   "cell_type": "markdown",
   "id": "0a7d3142",
   "metadata": {
    "papermill": {
     "duration": 0.011832,
     "end_time": "2024-08-14T12:17:52.748654",
     "exception": false,
     "start_time": "2024-08-14T12:17:52.736822",
     "status": "completed"
    },
    "tags": []
   },
   "source": [
    "**Correlation Analysis**"
   ]
  },
  {
   "cell_type": "code",
   "execution_count": 17,
   "id": "52c1d9e5",
   "metadata": {
    "execution": {
     "iopub.execute_input": "2024-08-14T12:17:52.775040Z",
     "iopub.status.busy": "2024-08-14T12:17:52.774590Z",
     "iopub.status.idle": "2024-08-14T12:17:52.799528Z",
     "shell.execute_reply": "2024-08-14T12:17:52.797945Z"
    },
    "papermill": {
     "duration": 0.042246,
     "end_time": "2024-08-14T12:17:52.802986",
     "exception": false,
     "start_time": "2024-08-14T12:17:52.760740",
     "status": "completed"
    },
    "tags": []
   },
   "outputs": [
    {
     "data": {
      "text/html": [
       "<div>\n",
       "<style scoped>\n",
       "    .dataframe tbody tr th:only-of-type {\n",
       "        vertical-align: middle;\n",
       "    }\n",
       "\n",
       "    .dataframe tbody tr th {\n",
       "        vertical-align: top;\n",
       "    }\n",
       "\n",
       "    .dataframe thead th {\n",
       "        text-align: right;\n",
       "    }\n",
       "</style>\n",
       "<table border=\"1\" class=\"dataframe\">\n",
       "  <thead>\n",
       "    <tr style=\"text-align: right;\">\n",
       "      <th></th>\n",
       "      <th>Overall rank</th>\n",
       "      <th>Country or region</th>\n",
       "      <th>Score</th>\n",
       "      <th>GDP per capita</th>\n",
       "      <th>Social support</th>\n",
       "      <th>Healthy life expectancy</th>\n",
       "      <th>Freedom to make life choices</th>\n",
       "      <th>Generosity</th>\n",
       "      <th>Perceptions of corruption</th>\n",
       "    </tr>\n",
       "  </thead>\n",
       "  <tbody>\n",
       "    <tr>\n",
       "      <th>Overall rank</th>\n",
       "      <td>1.000000</td>\n",
       "      <td>0.009578</td>\n",
       "      <td>-0.989096</td>\n",
       "      <td>-0.801947</td>\n",
       "      <td>-0.767465</td>\n",
       "      <td>-0.787411</td>\n",
       "      <td>-0.546606</td>\n",
       "      <td>-0.047993</td>\n",
       "      <td>-0.351959</td>\n",
       "    </tr>\n",
       "    <tr>\n",
       "      <th>Country or region</th>\n",
       "      <td>0.009578</td>\n",
       "      <td>1.000000</td>\n",
       "      <td>-0.023039</td>\n",
       "      <td>0.021662</td>\n",
       "      <td>0.135603</td>\n",
       "      <td>-0.026412</td>\n",
       "      <td>0.041065</td>\n",
       "      <td>0.114529</td>\n",
       "      <td>0.029526</td>\n",
       "    </tr>\n",
       "    <tr>\n",
       "      <th>Score</th>\n",
       "      <td>-0.989096</td>\n",
       "      <td>-0.023039</td>\n",
       "      <td>1.000000</td>\n",
       "      <td>0.793883</td>\n",
       "      <td>0.777058</td>\n",
       "      <td>0.779883</td>\n",
       "      <td>0.566742</td>\n",
       "      <td>0.075824</td>\n",
       "      <td>0.385613</td>\n",
       "    </tr>\n",
       "    <tr>\n",
       "      <th>GDP per capita</th>\n",
       "      <td>-0.801947</td>\n",
       "      <td>0.021662</td>\n",
       "      <td>0.793883</td>\n",
       "      <td>1.000000</td>\n",
       "      <td>0.754906</td>\n",
       "      <td>0.835462</td>\n",
       "      <td>0.379079</td>\n",
       "      <td>-0.079662</td>\n",
       "      <td>0.298920</td>\n",
       "    </tr>\n",
       "    <tr>\n",
       "      <th>Social support</th>\n",
       "      <td>-0.767465</td>\n",
       "      <td>0.135603</td>\n",
       "      <td>0.777058</td>\n",
       "      <td>0.754906</td>\n",
       "      <td>1.000000</td>\n",
       "      <td>0.719009</td>\n",
       "      <td>0.447333</td>\n",
       "      <td>-0.048126</td>\n",
       "      <td>0.181899</td>\n",
       "    </tr>\n",
       "    <tr>\n",
       "      <th>Healthy life expectancy</th>\n",
       "      <td>-0.787411</td>\n",
       "      <td>-0.026412</td>\n",
       "      <td>0.779883</td>\n",
       "      <td>0.835462</td>\n",
       "      <td>0.719009</td>\n",
       "      <td>1.000000</td>\n",
       "      <td>0.390395</td>\n",
       "      <td>-0.029511</td>\n",
       "      <td>0.295283</td>\n",
       "    </tr>\n",
       "    <tr>\n",
       "      <th>Freedom to make life choices</th>\n",
       "      <td>-0.546606</td>\n",
       "      <td>0.041065</td>\n",
       "      <td>0.566742</td>\n",
       "      <td>0.379079</td>\n",
       "      <td>0.447333</td>\n",
       "      <td>0.390395</td>\n",
       "      <td>1.000000</td>\n",
       "      <td>0.269742</td>\n",
       "      <td>0.438843</td>\n",
       "    </tr>\n",
       "    <tr>\n",
       "      <th>Generosity</th>\n",
       "      <td>-0.047993</td>\n",
       "      <td>0.114529</td>\n",
       "      <td>0.075824</td>\n",
       "      <td>-0.079662</td>\n",
       "      <td>-0.048126</td>\n",
       "      <td>-0.029511</td>\n",
       "      <td>0.269742</td>\n",
       "      <td>1.000000</td>\n",
       "      <td>0.326538</td>\n",
       "    </tr>\n",
       "    <tr>\n",
       "      <th>Perceptions of corruption</th>\n",
       "      <td>-0.351959</td>\n",
       "      <td>0.029526</td>\n",
       "      <td>0.385613</td>\n",
       "      <td>0.298920</td>\n",
       "      <td>0.181899</td>\n",
       "      <td>0.295283</td>\n",
       "      <td>0.438843</td>\n",
       "      <td>0.326538</td>\n",
       "      <td>1.000000</td>\n",
       "    </tr>\n",
       "  </tbody>\n",
       "</table>\n",
       "</div>"
      ],
      "text/plain": [
       "                              Overall rank  Country or region     Score  \\\n",
       "Overall rank                      1.000000           0.009578 -0.989096   \n",
       "Country or region                 0.009578           1.000000 -0.023039   \n",
       "Score                            -0.989096          -0.023039  1.000000   \n",
       "GDP per capita                   -0.801947           0.021662  0.793883   \n",
       "Social support                   -0.767465           0.135603  0.777058   \n",
       "Healthy life expectancy          -0.787411          -0.026412  0.779883   \n",
       "Freedom to make life choices     -0.546606           0.041065  0.566742   \n",
       "Generosity                       -0.047993           0.114529  0.075824   \n",
       "Perceptions of corruption        -0.351959           0.029526  0.385613   \n",
       "\n",
       "                              GDP per capita  Social support  \\\n",
       "Overall rank                       -0.801947       -0.767465   \n",
       "Country or region                   0.021662        0.135603   \n",
       "Score                               0.793883        0.777058   \n",
       "GDP per capita                      1.000000        0.754906   \n",
       "Social support                      0.754906        1.000000   \n",
       "Healthy life expectancy             0.835462        0.719009   \n",
       "Freedom to make life choices        0.379079        0.447333   \n",
       "Generosity                         -0.079662       -0.048126   \n",
       "Perceptions of corruption           0.298920        0.181899   \n",
       "\n",
       "                              Healthy life expectancy  \\\n",
       "Overall rank                                -0.787411   \n",
       "Country or region                           -0.026412   \n",
       "Score                                        0.779883   \n",
       "GDP per capita                               0.835462   \n",
       "Social support                               0.719009   \n",
       "Healthy life expectancy                      1.000000   \n",
       "Freedom to make life choices                 0.390395   \n",
       "Generosity                                  -0.029511   \n",
       "Perceptions of corruption                    0.295283   \n",
       "\n",
       "                              Freedom to make life choices  Generosity  \\\n",
       "Overall rank                                     -0.546606   -0.047993   \n",
       "Country or region                                 0.041065    0.114529   \n",
       "Score                                             0.566742    0.075824   \n",
       "GDP per capita                                    0.379079   -0.079662   \n",
       "Social support                                    0.447333   -0.048126   \n",
       "Healthy life expectancy                           0.390395   -0.029511   \n",
       "Freedom to make life choices                      1.000000    0.269742   \n",
       "Generosity                                        0.269742    1.000000   \n",
       "Perceptions of corruption                         0.438843    0.326538   \n",
       "\n",
       "                              Perceptions of corruption  \n",
       "Overall rank                                  -0.351959  \n",
       "Country or region                              0.029526  \n",
       "Score                                          0.385613  \n",
       "GDP per capita                                 0.298920  \n",
       "Social support                                 0.181899  \n",
       "Healthy life expectancy                        0.295283  \n",
       "Freedom to make life choices                   0.438843  \n",
       "Generosity                                     0.326538  \n",
       "Perceptions of corruption                      1.000000  "
      ]
     },
     "execution_count": 17,
     "metadata": {},
     "output_type": "execute_result"
    }
   ],
   "source": [
    "df.corr().transpose()"
   ]
  },
  {
   "cell_type": "markdown",
   "id": "da9015c2",
   "metadata": {
    "papermill": {
     "duration": 0.013757,
     "end_time": "2024-08-14T12:17:52.829689",
     "exception": false,
     "start_time": "2024-08-14T12:17:52.815932",
     "status": "completed"
    },
    "tags": []
   },
   "source": [
    "* Strong negative correlation (-0.989), indicating better scores lead to better ranks.\n",
    "* Highly correlated with GDP per capita (0.794), Social support (0.777), Healthy life expectancy (0.780), and Freedom to make life choices (0.567). Wealth, support systems, and health are key drivers of higher scores.\n",
    "* Strongly linked to Healthy life expectancy (0.835) and Social support (0.755), suggesting wealthier countries are healthier and better supported.\n",
    "\n",
    "* Wealth, social support, and health are the most critical factors influencing a country's overall well-being and rank."
   ]
  }
 ],
 "metadata": {
  "kaggle": {
   "accelerator": "none",
   "dataSources": [
    {
     "datasetId": 894,
     "sourceId": 813759,
     "sourceType": "datasetVersion"
    },
    {
     "datasetId": 5542806,
     "sourceId": 9172077,
     "sourceType": "datasetVersion"
    }
   ],
   "dockerImageVersionId": 30746,
   "isGpuEnabled": false,
   "isInternetEnabled": false,
   "language": "python",
   "sourceType": "notebook"
  },
  "kernelspec": {
   "display_name": "Python 3",
   "language": "python",
   "name": "python3"
  },
  "language_info": {
   "codemirror_mode": {
    "name": "ipython",
    "version": 3
   },
   "file_extension": ".py",
   "mimetype": "text/x-python",
   "name": "python",
   "nbconvert_exporter": "python",
   "pygments_lexer": "ipython3",
   "version": "3.10.13"
  },
  "papermill": {
   "default_parameters": {},
   "duration": 8.128,
   "end_time": "2024-08-14T12:17:53.468668",
   "environment_variables": {},
   "exception": null,
   "input_path": "__notebook__.ipynb",
   "output_path": "__notebook__.ipynb",
   "parameters": {},
   "start_time": "2024-08-14T12:17:45.340668",
   "version": "2.5.0"
  }
 },
 "nbformat": 4,
 "nbformat_minor": 5
}
